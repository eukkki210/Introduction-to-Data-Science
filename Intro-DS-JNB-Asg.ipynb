{
 "cells": [
  {
   "cell_type": "markdown",
   "id": "0db976db",
   "metadata": {},
   "source": [
    "#### 학번: 201701257 이름: 류승기 학과: 브라질학과/AI융합전공(Software&AI)\n",
    "\n",
    "ssl.py에 기능 추가하여 작성한 코드입니다.\n",
    "\n",
    "traverse_all(), insert_at(position, new_data), remove(key) 기능을 추가하였습니다."
   ]
  },
  {
   "cell_type": "markdown",
   "id": "33138571",
   "metadata": {},
   "source": [
    "# myssl.py"
   ]
  },
  {
   "cell_type": "code",
   "execution_count": 1,
   "id": "037ec1d7",
   "metadata": {},
   "outputs": [],
   "source": [
    "# 201701257 브라질학과/Software&AI 류승기\n",
    "\n",
    "# Node 클래스 정의\n",
    "class Node:\n",
    "\tdef __init__(self, data):\n",
    "\t\tself.data = data\n",
    "\t\tself.next = None\n",
    "\n",
    "\n",
    "# LinkedList 클래스 정의\n",
    "class LinkedList:\n",
    "\n",
    "\t# 초기화 메소드\n",
    "\tdef __init__(self):\n",
    "\t\tdummy = Node(\"dummy\")\n",
    "\t\tself.head = dummy\n",
    "\t\tself.tail = dummy\n",
    "\n",
    "\t\tself.current = None\n",
    "\t\tself.before = None\n",
    "\n",
    "\t\tself.num_of_data = 0\n",
    "\n",
    "\t# append 메소드 (insert1 - 맨 뒤에 노드 추가, tail과 node의 next, 데이터 개수 변경)\n",
    "\tdef append(self, data):\n",
    "\t\tnew_node = Node(data)\n",
    "\t\tself.tail.next = new_node\n",
    "\t\tself.tail = new_node\n",
    "\n",
    "\t\tself.num_of_data += 1\n",
    "\n",
    "\t# delete 메소드 (delete1 - current 노드 삭제, 인접 노드의 current, next 변경, 데이터 개수 변경)\n",
    "\tdef delete(self):\n",
    "\t\tpop_data = self.current.data\n",
    "\n",
    "\t\tif self.current == self.tail:\n",
    "\t\t\tself.tail = self.before\n",
    "\n",
    "\t\t\t# 중요 : current가 next가 아닌 before로 변경된다.\n",
    "\t\t\tself.before.next = self.current.next\n",
    "\t\t\tself.current = self.before \n",
    "\t\t\n",
    "\t\telse:\n",
    "\t\t\tself.before.next = self.current.next\n",
    "\n",
    "\t\tself.num_of_data -= 1\n",
    "\t\t\n",
    "\t\tif self.current == None:\n",
    "\t\t\tself.first()\n",
    "\n",
    "\t\treturn pop_data\n",
    "\n",
    "\t# first 메소드 (search1 - 맨 앞의 노드 검색, before, current 변경)\n",
    "\tdef first(self):\n",
    "\t\t# 데이터가 없는 경우 첫번째 노드도 없기 때문에 None 리턴\n",
    "\t\tif self.num_of_data == 0: \n",
    "\t\t\treturn None\n",
    "\n",
    "\t\tself.before = self.head\n",
    "\t\tself.current = self.head.next\n",
    "\n",
    "\t\treturn self.current.data\n",
    "\n",
    "\t# next 메소드 (search2 - current 노드의 다음 노드 검색)\n",
    "\tdef next(self):\n",
    "\t\tif self.current == None:\n",
    "\t\t\treturn None\n",
    "\t\t\n",
    "\t\tif self.current.next == None:\n",
    "\t\t\tself.current = None\n",
    "\t\t\treturn None\n",
    "\n",
    "\t\tself.before = self.current\n",
    "\t\tself.current = self.current.next\n",
    "\n",
    "\t\treturn self.current.data\n",
    "\n",
    "\t# size 메소드\n",
    "\tdef size(self):\n",
    "\t\treturn self.num_of_data \n",
    "\t\n",
    "\t# traverse_all 메소드 (search3 - 순차적으로 모든 원소 탐색, 각 노드의 data print)\n",
    "\tdef traverse_all(self):\n",
    "\t\tif self.num_of_data == 0:\n",
    "\t\t\treturn None\n",
    "\t\t\n",
    "\t\t# 현재 node가 None이면 처음 노드로 이동\n",
    "\t\tif self.current == None:\n",
    "\t\t\tself.first()\n",
    "\t\t\n",
    "\t\tprint(\"head -> \", end=\"\")\n",
    "\t\t# 현재 노드를 가리키는 변수 초기화 (변수 사용하지 않으면 while문이 무한 루프에 빠짐)\n",
    "\t\tcur_node = self.current\n",
    "\t\t# 현재 노드 (헤드 노드의 다음 노드)가 None이 아닐 때까지 반복하여 현재 노드의 데이터 출력\n",
    "\t\twhile cur_node != None:\n",
    "\t\t\tprint(f\"({cur_node.data})\", end=\"\")\n",
    "\t\t\tif cur_node.next != None:\n",
    "\t\t\t\tprint(\" -> \", end=\"\")\n",
    "\t\t\t# 다음 노드가 없을 때(null), 즉 연결리스트의 마지막 노드일 때 \"-> null\"출력\n",
    "\t\t\telse:\n",
    "\t\t\t\tprint(\" -> null\")\n",
    "\t\t\tcur_node = cur_node.next\n",
    "\t\t\n",
    "\t# insert_at 메소드 (insert2 - 주어진 position에 노드 추가, before과 node의 next, 데이터 개수 변경)\n",
    "\tdef insert_at(self, position, new_data):\n",
    "\t\t# position이 1보다 작은 경우 메소드 종료 (error)\n",
    "\t\tif position < 1:\n",
    "\t\t\tprint(\"오류: 위치가 1보다 크거나 같아야 합니다.\")\n",
    "\t\t\treturn None\n",
    "\t\t# position이 num_of_data보다 큰 경우, append 메소드를 호출하여 맨 마지막에 new_data 삽입\n",
    "\t\telif position > self.num_of_data:\n",
    "\t\t\tself.append(new_data)\n",
    "\t\t\treturn None\n",
    "\t\t# 유효한 position의 경우\n",
    "\t\tnew_node = Node(new_data)\n",
    "\t\t# 현재 node 탐색 (현재 위치 1로 초기화)\n",
    "\t\tcur_pos = 1\n",
    "\t\tcur_node = self.current\n",
    "\t\t# 현재 위치가 position보다 작은 동안 반복 (반복문 내부에서 before, current 갱신)\n",
    "\t\twhile cur_pos < position:\n",
    "\t\t\tself.before = cur_node\n",
    "\t\t\tself.current = cur_node.next\n",
    "\t\t\tcur_pos += 1\n",
    "\t\tself.before.next = new_node\n",
    "\t\tnew_node.next = self.current\n",
    "\n",
    "\t\tself.first()\n",
    "\n",
    "\t\tself.num_of_data += 1\n",
    "\n",
    "\t# remove 메소드 (delete2 - key와 일치하는 node 삭제, 인접 node의 current, next 변경, 데이터 개수 변경)\n",
    "\tdef remove(self, key):\n",
    "\t\t# 처리 결과 출력을 위해 삭제된 원소 개수 카운트\n",
    "\t\tdel_cnt = 0\n",
    "\t\t# 몇 번째 원소인지 알기 위해 idx 변수 선언\n",
    "\t\tidx = 0\n",
    "\t\t# 빈 리스트일 경우 메소드 종료\n",
    "\t\tif self.num_of_data == 0:\n",
    "\t\t\treturn None\n",
    "\t\tcur_node = self.current\n",
    "\t\t# 리스트 전체 탐색 (cur_node가 None이 되면 끝까지 탐색한 것)\n",
    "\t\twhile cur_node != None:\n",
    "\t\t\t# 삭제할 node 발견\n",
    "\t\t\tif cur_node.data == key:\n",
    "\t\t\t\t# 삭제할 node가 첫 번째 node일 경우\n",
    "\t\t\t\tif cur_node == self.current:\n",
    "\t\t\t\t\tself.current = cur_node.next\n",
    "\t\t\t\t\tcur_node = self.current\n",
    "\t\t\t\t# 삭제할 node가 중간에 위치하는 경우\n",
    "\t\t\t\telse:\n",
    "\t\t\t\t\tself.before.next = cur_node.next\n",
    "\t\t\t\t\tcur_node = cur_node.next\n",
    "\t\t\t\t\t\n",
    "\t\t\t\tself.num_of_data -= 1\n",
    "\t\t\t\tdel_cnt += 1\n",
    "\t\t\t# 현재 node의 값이 key와 같지 않다면, 다믐 node로 이동\n",
    "\t\t\telse:\n",
    "\t\t\t\tself.before = cur_node\n",
    "\t\t\t\tcur_node = cur_node.next\n",
    "\t\t\tidx += 1\n",
    "\t\tif del_cnt == 0:\n",
    "\t\t\tprint(\"해당하는 원소가 없습니다.\")\n",
    "\t\telse:\n",
    "\t\t\tprint(f\"{idx-1}번째 원소(key)를 삭제합니다.\")\n",
    "\n",
    "# 항상 first 메소드를 먼저 호출해야 하는 메소드들을 어떻게 하면 해결할 수 있을까?\n",
    "# self.current가 None일 대 first() 메소드를 호출하도록 수정?"
   ]
  },
  {
   "cell_type": "markdown",
   "id": "a36a1e98",
   "metadata": {},
   "source": [
    "#### myssl.py 소스코드는 Node 클래스와 LinkedList 클래스로 이루어져 있는 모듈\n",
    "\n",
    "Node: LinkedList의 Node 정의\n",
    "LinkedList: Singly Linked List 정의"
   ]
  },
  {
   "cell_type": "markdown",
   "id": "f1a7da36",
   "metadata": {},
   "source": [
    "__init__(): LinkedList의 초기화 담당,\n",
    "(head, current, before, tail, num_of_data 인스턴스 변수 초기화)\n",
    "\n",
    "append(data): LinkedList에 data 추가\n",
    "\n",
    "delete(): 현재 node 삭제\n",
    "\n",
    "first(): LinkedList 첫 번째 node 반환\n",
    "\n",
    "next(): 현재 node의 다음 node 반환\n",
    "\n",
    "size(): LinkedList의 크기 반환\n",
    "\n",
    "traverse_all(): LinkedList의 모든 Node 출력\n",
    "\n",
    "insert_at(position, new_data): LinkedList의 특정 position에 new_data 삽입\n",
    "\n",
    "remove(key): LinkedList에서 key에 해당하는 node 삭제"
   ]
  },
  {
   "cell_type": "markdown",
   "id": "0eabdc20",
   "metadata": {},
   "source": [
    "# myssl.py 테스트\n",
    "\n",
    "- 실제 테스트한 코드(ssl_test.py)와 수정한 과정은 github(https://github.com/eukkki210/Introduction-to-Data-Science)에서 확인할 수 있습니다."
   ]
  },
  {
   "cell_type": "code",
   "execution_count": 2,
   "id": "69ab13de",
   "metadata": {},
   "outputs": [],
   "source": [
    "from myssl import *"
   ]
  },
  {
   "cell_type": "code",
   "execution_count": 3,
   "id": "efda27ec",
   "metadata": {
    "scrolled": true
   },
   "outputs": [
    {
     "name": "stdout",
     "output_type": "stream",
     "text": [
      "head -> (100) -> (72) -> (325) -> null\n",
      "head -> (100) -> (500) -> (72) -> (325) -> null\n",
      "2번째 원소(key)를 삭제합니다.\n",
      "head -> (100) -> (500) -> (325) -> null\n",
      "해당하는 원소가 없습니다.\n",
      "head -> (100) -> (500) -> (325) -> null\n"
     ]
    }
   ],
   "source": [
    "if __name__ == '__main__':\n",
    "    # LinkedList 객체 생성\n",
    "    ll = LinkedList()\n",
    "\n",
    "    # append() 메소드 테스트\n",
    "    ll.append(100)\n",
    "    ll.append(72)\n",
    "    ll.append(325)\n",
    "    ll.traverse_all() \n",
    "    # 예상 출력: head -> (100) -> (72) -> (325) -> null \n",
    "\n",
    "    # insert_at() 메소드 테스트\n",
    "    ll.insert_at(2, 500)\n",
    "    ll.traverse_all() \n",
    "    # 예상 출력: head -> (100) -> (500) -> (72) -> (325) -> null\n",
    "\n",
    "    # remove() 메소드 테스트\n",
    "    ll.remove(72)\n",
    "    ll.traverse_all()\n",
    "    # 예상 출력: 3번째 원소(key)를 삭제합니다.\n",
    "    # head -> (100) -> (500) -> (325) -> null\n",
    "\n",
    "    ll.remove(999)\n",
    "    ll.traverse_all()\n",
    "    # 예상 출력: 해당하는 원소가 없습니다.\n",
    "    # head ->(100) -> (500) -> (325) -> null\n"
   ]
  },
  {
   "cell_type": "code",
   "execution_count": 4,
   "id": "924bbd04",
   "metadata": {},
   "outputs": [
    {
     "name": "stdout",
     "output_type": "stream",
     "text": [
      "head -> (5) -> (2) -> (1) -> (2) -> (7) -> (2) -> (11) -> null\n"
     ]
    }
   ],
   "source": [
    "# pdf에 있는 테스트 코드\n",
    "# append(), traverse_all() 메소드 테스트\n",
    "\n",
    "if __name__ == '__main__':\n",
    "    ll = LinkedList()\n",
    "    ll.append(5)\n",
    "    ll.append(2)\n",
    "    ll.append(1)\n",
    "    ll.append(2)\n",
    "    ll.append(7)\n",
    "    ll.append(2)\n",
    "    ll.append(11)\n",
    "    ll.first()\n",
    "    ll.traverse_all()"
   ]
  },
  {
   "cell_type": "code",
   "execution_count": 5,
   "id": "a715d317",
   "metadata": {},
   "outputs": [
    {
     "name": "stdout",
     "output_type": "stream",
     "text": [
      "first : 5\n",
      "next : 2\n",
      "size : 7\n",
      "delete : 2\n",
      "size : 6\n",
      "current: 2\n",
      "tail: 11\n",
      "first : 5\n",
      "next : 1\n",
      "next : 2\n",
      "next : 7\n"
     ]
    }
   ],
   "source": [
    "# 기존 코드의 메소드 테스트\n",
    "print('first :', ll.first()) # first : 5\n",
    "print('next :', ll.next()) # next : 2\n",
    "print('size :', ll.size()) # size : 7\n",
    "print('delete :', ll.delete()) # delete : 2\n",
    "print('size :', ll.size()) # size : 6\n",
    "print('current:', ll.current.data)# current: 5\n",
    "print('tail:', ll.tail.data) # tail: 11\n",
    "print('first :', ll.first()) # first : 5\n",
    "print('next :', ll.next()) # next : 1\n",
    "print('next :', ll.next()) # next : 2\n",
    "print('next :', ll.next()) # next : 7"
   ]
  },
  {
   "cell_type": "code",
   "execution_count": 6,
   "id": "a9c80832",
   "metadata": {},
   "outputs": [
    {
     "name": "stdout",
     "output_type": "stream",
     "text": [
      "5 1 2 7 2 11 "
     ]
    }
   ],
   "source": [
    "# 전체 노드 data 표시하기\n",
    "data = ll.first()\n",
    "\n",
    "if data:\n",
    "    print(data, end=' ')\n",
    "while True:\n",
    "    data = ll.next()\n",
    "    if data:\n",
    "        print(data, end=' ')\n",
    "    else:\n",
    "        break\n",
    "# 예상 출력 결과: 5 1 2 7 2 11"
   ]
  },
  {
   "cell_type": "code",
   "execution_count": 7,
   "id": "6af8f492",
   "metadata": {},
   "outputs": [
    {
     "name": "stdout",
     "output_type": "stream",
     "text": [
      "5 1 deleted 7 deleted 11 "
     ]
    }
   ],
   "source": [
    "# 2만 삭제하기\n",
    "data = ll.first()\n",
    "\n",
    "if data and data == 2:\n",
    "    ll.delete()\n",
    "    print('deleted', end=' ')\n",
    "else:\n",
    "    print(data, end= ' ')\n",
    "\n",
    "while True:\n",
    "    data = ll.next()\n",
    "    if data == 2:\n",
    "        ll.delete()\n",
    "        print('deleted', end=' ')\n",
    "    elif data:\n",
    "        print(data, end=' ')\n",
    "    else:\n",
    "        break\n",
    "# 예상 출력 결과: 5 1 deleted 7 deleted 11"
   ]
  },
  {
   "cell_type": "code",
   "execution_count": 8,
   "id": "7b43b3f2",
   "metadata": {
    "scrolled": true
   },
   "outputs": [
    {
     "name": "stdout",
     "output_type": "stream",
     "text": [
      "head -> (1) -> (2) -> (3) -> (4) -> null\n",
      "head -> (1) -> (2) -> (3) -> (4) -> null\n"
     ]
    }
   ],
   "source": [
    "# 추가 test1\n",
    "\n",
    "ll = LinkedList()\n",
    "\n",
    "# data 추가\n",
    "ll.append(1)\n",
    "ll.append(2)\n",
    "ll.append(3)\n",
    "ll.append(4)\n",
    "\n",
    "# 중간에 data 삽입 -> error 발생\n",
    "# ll.insert_at(2, 2.5)\n",
    "\n",
    "# list 출력\n",
    "ll.traverse_all() # haed -> (1) -> (2) -> (2.5) -> (3) -> (4) -> null\n",
    "\n",
    "# 중간 node 삭제\n",
    "# ll.remove(2.5)\n",
    "\n",
    "# list 출력\n",
    "ll.traverse_all() # head -> (1) -> (2) -> (3) -> (4) -> null"
   ]
  },
  {
   "cell_type": "markdown",
   "id": "6b875d4f",
   "metadata": {},
   "source": [
    "---------------------------------------------------------------------------\n",
    "AttributeError                            Traceback (most recent call last)\n",
    "~\\AppData\\Local\\Temp/ipykernel_5156/4027338671.py in <module>\n",
    "     10 \n",
    "     11 # 중간에 데이터 삽입\n",
    "---> 12 ll.insert_at(2, 2.5)\n",
    "     13 \n",
    "     14 # list 출력\n",
    "\n",
    "~\\AppData\\Local\\Temp/ipykernel_5156/1258145042.py in insert_at(self, position, new_data)\n",
    "    120                 while cur_pos < position:\n",
    "    121                         self.before = cur_node\n",
    "--> 122                         self.current = cur_node.next\n",
    "    123                         cur_pos += 1\n",
    "    124                 self.before.next = new_node\n",
    "\n",
    "AttributeError: 'NoneType' object has no attribute 'next'"
   ]
  },
  {
   "cell_type": "markdown",
   "id": "ebe81ae7",
   "metadata": {},
   "source": [
    "LinkedList에서 None 값을 참조하려고해서 발생한 에러, cur_node와 cur_pose 변수가 초기화 되지 않음\n",
    "\n",
    "<b>아직 해결 못함</b>"
   ]
  },
  {
   "cell_type": "code",
   "execution_count": 9,
   "id": "57f8285f",
   "metadata": {},
   "outputs": [
    {
     "name": "stdout",
     "output_type": "stream",
     "text": [
      "head -> (1) -> (2.5) -> (2) -> (3) -> (4) -> null\n",
      "오류: position은 1보다 크거나 같고 전체 데이터 수보다 작거나 같아야 합니다.\n",
      "head -> (1) -> (2.5) -> (2) -> (3) -> (4) -> null\n",
      "head -> (1) -> (2.5) -> (2) -> (3) -> (4) -> (4.5) -> null\n",
      "오류: position은 1보다 크거나 같고 전체 데이터 수보다 작거나 같아야 합니다.\n",
      "head -> (1) -> (2.5) -> (2) -> (3) -> (4) -> (4.5) -> null\n",
      "head -> (1) -> (2.5) -> (2.5) -> (2) -> (3) -> (4) -> (4.5) -> null\n",
      "3번째 원소(key)를 삭제합니다.\n",
      "head -> (1) -> (2.5) -> (2.5) -> (3) -> (4) -> (4.5) -> null\n"
     ]
    }
   ],
   "source": [
    "# 추가 test2\n",
    "\n",
    "# 여기서는 제대로 작동하는 이유..?\n",
    "ll.insert_at(2, 2.5)\n",
    "ll.traverse_all()\n",
    "ll.insert_at(0, 0.5)\n",
    "ll.traverse_all()\n",
    "ll.insert_at(6, 4.5)\n",
    "ll.traverse_all()\n",
    "ll.insert_at(8, 6.5)\n",
    "ll.traverse_all()\n",
    "ll.insert_at(2, 2.5)\n",
    "ll.traverse_all()\n",
    "\n",
    "ll.remove(2)\n",
    "ll.traverse_all()"
   ]
  },
  {
   "cell_type": "markdown",
   "id": "a6cab5cf",
   "metadata": {},
   "source": [
    "ll.remove(2)를 실행했을 때, \"6번째 원소(key)를 삭제합니다.\"가 출력됨\n",
    "2의 idx는 3인데..?\n",
    "\n",
    "문제점: 원래 코드는 remove() 메소드의 idx변수가 현재 탐색 중인 node의 index가 아니라, 탐색한 node의 총 개수를 세고 있었음 (remove() 메소드가 전부 돌아간 뒤의 idx를 출력)\n",
    "해결 방법: 현재 탐색 중인 noed의 index를 세기 위해 삭제할 node를 발견했을 경우의 if문 이 종료되기 직전 출력시킴"
   ]
  },
  {
   "cell_type": "code",
   "execution_count": null,
   "id": "283edd90",
   "metadata": {},
   "outputs": [],
   "source": [
    "해결 방법: "
   ]
  }
 ],
 "metadata": {
  "kernelspec": {
   "display_name": "Python 3 (ipykernel)",
   "language": "python",
   "name": "python3"
  },
  "language_info": {
   "codemirror_mode": {
    "name": "ipython",
    "version": 3
   },
   "file_extension": ".py",
   "mimetype": "text/x-python",
   "name": "python",
   "nbconvert_exporter": "python",
   "pygments_lexer": "ipython3",
   "version": "3.9.7"
  },
  "toc": {
   "base_numbering": 1,
   "nav_menu": {},
   "number_sections": true,
   "sideBar": true,
   "skip_h1_title": false,
   "title_cell": "Table of Contents",
   "title_sidebar": "Contents",
   "toc_cell": false,
   "toc_position": {},
   "toc_section_display": true,
   "toc_window_display": false
  },
  "varInspector": {
   "cols": {
    "lenName": 16,
    "lenType": 16,
    "lenVar": 40
   },
   "kernels_config": {
    "python": {
     "delete_cmd_postfix": "",
     "delete_cmd_prefix": "del ",
     "library": "var_list.py",
     "varRefreshCmd": "print(var_dic_list())"
    },
    "r": {
     "delete_cmd_postfix": ") ",
     "delete_cmd_prefix": "rm(",
     "library": "var_list.r",
     "varRefreshCmd": "cat(var_dic_list()) "
    }
   },
   "types_to_exclude": [
    "module",
    "function",
    "builtin_function_or_method",
    "instance",
    "_Feature"
   ],
   "window_display": false
  }
 },
 "nbformat": 4,
 "nbformat_minor": 5
}
